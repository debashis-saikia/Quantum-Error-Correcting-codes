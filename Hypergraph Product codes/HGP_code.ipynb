{
  "nbformat": 4,
  "nbformat_minor": 0,
  "metadata": {
    "colab": {
      "provenance": []
    },
    "kernelspec": {
      "name": "python3",
      "display_name": "Python 3"
    },
    "language_info": {
      "name": "python"
    }
  },
  "cells": [
    {
      "cell_type": "code",
      "execution_count": 1,
      "metadata": {
        "id": "GQ33Xl2OLz9w"
      },
      "outputs": [],
      "source": [
        "import numpy as np"
      ]
    },
    {
      "cell_type": "code",
      "source": [
        "def hypergraph_product(A, B):\n",
        "  mA, mB = A.shape[0], B.shape[0]\n",
        "  nA, nB = A.shape[1], B.shape[1]\n",
        "\n",
        "  #H_X parity check matrix construction\n",
        "  HX_left = np.kron(A, np.eye(mB))\n",
        "  HX_right = np.kron(np.eye(mA), B)\n",
        "  HX = np.hstack((HX_left, HX_right))\n",
        "\n",
        "  #H_Z parity check matrix construction\n",
        "  HZ_left = np.kron(np.eye(nA), B.T)\n",
        "  HZ_right = np.kron(A.T, np.eye(nB))\n",
        "  HZ = np.hstack((HZ_left, HZ_right))\n",
        "\n",
        "  #CSS condition checking\n",
        "  H_ = np.dot(HX, HZ.T)\n",
        "  if np.all((H_ % 2) == 0):\n",
        "    return HX, HZ\n",
        "  else:\n",
        "    print('CSS condition not satisfied')\n",
        "    return None, None"
      ],
      "metadata": {
        "id": "SOHI0F7kNi2g"
      },
      "execution_count": 2,
      "outputs": []
    },
    {
      "cell_type": "code",
      "source": [
        "#Example 1\n",
        "h = np.matrix([[1, 1, 0], [0, 1, 1]])\n",
        "print(h)\n",
        "Hx, Hz = hypergraph_product(h, h)\n",
        "print(Hx.shape, Hx)\n",
        "print(Hz.shape, Hz)"
      ],
      "metadata": {
        "colab": {
          "base_uri": "https://localhost:8080/"
        },
        "id": "8Ya-KoxIsJmg",
        "outputId": "a5ea105d-e035-49a0-c9dc-4f8331998b6e"
      },
      "execution_count": 4,
      "outputs": [
        {
          "output_type": "stream",
          "name": "stdout",
          "text": [
            "[[1 1 0]\n",
            " [0 1 1]]\n",
            "(4, 12) [[1. 0. 1. 0. 0. 0. 1. 1. 0. 0. 0. 0.]\n",
            " [0. 1. 0. 1. 0. 0. 0. 1. 1. 0. 0. 0.]\n",
            " [0. 0. 1. 0. 1. 0. 0. 0. 0. 1. 1. 0.]\n",
            " [0. 0. 0. 1. 0. 1. 0. 0. 0. 0. 1. 1.]]\n",
            "(9, 12) [[1. 0. 0. 0. 0. 0. 1. 0. 0. 0. 0. 0.]\n",
            " [1. 1. 0. 0. 0. 0. 0. 1. 0. 0. 0. 0.]\n",
            " [0. 1. 0. 0. 0. 0. 0. 0. 1. 0. 0. 0.]\n",
            " [0. 0. 1. 0. 0. 0. 1. 0. 0. 1. 0. 0.]\n",
            " [0. 0. 1. 1. 0. 0. 0. 1. 0. 0. 1. 0.]\n",
            " [0. 0. 0. 1. 0. 0. 0. 0. 1. 0. 0. 1.]\n",
            " [0. 0. 0. 0. 1. 0. 0. 0. 0. 1. 0. 0.]\n",
            " [0. 0. 0. 0. 1. 1. 0. 0. 0. 0. 1. 0.]\n",
            " [0. 0. 0. 0. 0. 1. 0. 0. 0. 0. 0. 1.]]\n"
          ]
        }
      ]
    },
    {
      "cell_type": "code",
      "source": [
        "#Example 2\n",
        "H = np.matrix([[1, 0, 0, 1, 1, 0, 1], [0, 1, 0, 1, 0, 1, 1], [0, 0, 1, 0, 1, 1, 1]], dtype =int)\n",
        "print(H)\n",
        "HX, HZ = hypergraph_product(H, H)\n",
        "print(HX.shape, HX)\n",
        "print(HZ.shape, HZ)"
      ],
      "metadata": {
        "id": "lhHphmuRPeZk",
        "colab": {
          "base_uri": "https://localhost:8080/"
        },
        "outputId": "ef2042e6-7c06-45f0-a23d-08bc9e5f702f"
      },
      "execution_count": 3,
      "outputs": [
        {
          "output_type": "stream",
          "name": "stdout",
          "text": [
            "[[1 0 0 1 1 0 1]\n",
            " [0 1 0 1 0 1 1]\n",
            " [0 0 1 0 1 1 1]]\n",
            "(9, 42) [[1. 0. 0. 0. 0. 0. 0. 0. 0. 1. 0. 0. 1. 0. 0. 0. 0. 0. 1. 0. 0. 1. 0. 0.\n",
            "  1. 1. 0. 1. 0. 0. 0. 0. 0. 0. 0. 0. 0. 0. 0. 0. 0. 0.]\n",
            " [0. 1. 0. 0. 0. 0. 0. 0. 0. 0. 1. 0. 0. 1. 0. 0. 0. 0. 0. 1. 0. 0. 1. 0.\n",
            "  1. 0. 1. 1. 0. 0. 0. 0. 0. 0. 0. 0. 0. 0. 0. 0. 0. 0.]\n",
            " [0. 0. 1. 0. 0. 0. 0. 0. 0. 0. 0. 1. 0. 0. 1. 0. 0. 0. 0. 0. 1. 0. 0. 1.\n",
            "  0. 1. 1. 1. 0. 0. 0. 0. 0. 0. 0. 0. 0. 0. 0. 0. 0. 0.]\n",
            " [0. 0. 0. 1. 0. 0. 0. 0. 0. 1. 0. 0. 0. 0. 0. 1. 0. 0. 1. 0. 0. 0. 0. 0.\n",
            "  0. 0. 0. 0. 1. 0. 0. 1. 1. 0. 1. 0. 0. 0. 0. 0. 0. 0.]\n",
            " [0. 0. 0. 0. 1. 0. 0. 0. 0. 0. 1. 0. 0. 0. 0. 0. 1. 0. 0. 1. 0. 0. 0. 0.\n",
            "  0. 0. 0. 0. 0. 1. 0. 1. 0. 1. 1. 0. 0. 0. 0. 0. 0. 0.]\n",
            " [0. 0. 0. 0. 0. 1. 0. 0. 0. 0. 0. 1. 0. 0. 0. 0. 0. 1. 0. 0. 1. 0. 0. 0.\n",
            "  0. 0. 0. 0. 0. 0. 1. 0. 1. 1. 1. 0. 0. 0. 0. 0. 0. 0.]\n",
            " [0. 0. 0. 0. 0. 0. 1. 0. 0. 0. 0. 0. 1. 0. 0. 1. 0. 0. 1. 0. 0. 0. 0. 0.\n",
            "  0. 0. 0. 0. 0. 0. 0. 0. 0. 0. 0. 1. 0. 0. 1. 1. 0. 1.]\n",
            " [0. 0. 0. 0. 0. 0. 0. 1. 0. 0. 0. 0. 0. 1. 0. 0. 1. 0. 0. 1. 0. 0. 0. 0.\n",
            "  0. 0. 0. 0. 0. 0. 0. 0. 0. 0. 0. 0. 1. 0. 1. 0. 1. 1.]\n",
            " [0. 0. 0. 0. 0. 0. 0. 0. 1. 0. 0. 0. 0. 0. 1. 0. 0. 1. 0. 0. 1. 0. 0. 0.\n",
            "  0. 0. 0. 0. 0. 0. 0. 0. 0. 0. 0. 0. 0. 1. 0. 1. 1. 1.]]\n",
            "(49, 42) [[1. 0. 0. ... 0. 0. 0.]\n",
            " [0. 1. 0. ... 0. 0. 0.]\n",
            " [0. 0. 1. ... 0. 0. 0.]\n",
            " ...\n",
            " [0. 0. 0. ... 1. 0. 0.]\n",
            " [0. 0. 0. ... 0. 1. 0.]\n",
            " [0. 0. 0. ... 0. 0. 1.]]\n"
          ]
        }
      ]
    },
    {
      "cell_type": "code",
      "source": [],
      "metadata": {
        "id": "FXDiso_AUc7Y"
      },
      "execution_count": null,
      "outputs": []
    }
  ]
}
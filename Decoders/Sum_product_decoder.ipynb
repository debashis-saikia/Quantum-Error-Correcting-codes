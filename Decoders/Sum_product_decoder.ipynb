{
  "nbformat": 4,
  "nbformat_minor": 0,
  "metadata": {
    "colab": {
      "provenance": []
    },
    "kernelspec": {
      "name": "python3",
      "display_name": "Python 3"
    },
    "language_info": {
      "name": "python"
    }
  },
  "cells": [
    {
      "cell_type": "markdown",
      "source": [
        "#*Importing Libraries*"
      ],
      "metadata": {
        "id": "o6OlH-eTre8B"
      }
    },
    {
      "cell_type": "code",
      "execution_count": 1,
      "metadata": {
        "id": "IEvjLJinsvg3"
      },
      "outputs": [],
      "source": [
        "import numpy as np"
      ]
    },
    {
      "cell_type": "markdown",
      "source": [
        "#*Function for BP-Sum product decoder*"
      ],
      "metadata": {
        "id": "EEgd0ykgrjXg"
      }
    },
    {
      "cell_type": "code",
      "source": [
        "def bp_sum_product_decoder(H, received_error, max_iter=10, p_error=0.1):\n",
        "\n",
        "    n = H.shape[1]  # Number of bit nodes\n",
        "    m = H.shape[0]  # Number of parity checks (check nodes)\n",
        "\n",
        "    # Compute observed syndrome from received error\n",
        "    syndrome = H @ received_error % 2\n",
        "    print(\"Initially observed Syndrome:\", syndrome)\n",
        "\n",
        "    # Calculate prior LLRs based on received_error and assumed error probability\n",
        "    prior_LLR = np.log((1 - p_error) / p_error)\n",
        "    prior_LLRs = np.full(n, prior_LLR)\n",
        "    prior_LLRs[received_error == 1] = -prior_LLR\n",
        "\n",
        "    bit_to_check = np.zeros((n, m))\n",
        "    check_to_bit = np.zeros((m, n))\n",
        "\n",
        "    # Initialize bit-to-check messages with prior LLRs\n",
        "    for v in range(n):\n",
        "        for c in range(m):\n",
        "            if H[c, v] == 1:\n",
        "                bit_to_check[v, c] = prior_LLRs[v]\n",
        "\n",
        "    # BP Iterations\n",
        "    for iteration in range(max_iter):\n",
        "\n",
        "        # Check node update: compute check-to-bit messages\n",
        "        for c in range(m):\n",
        "            for v in range(n):\n",
        "                if H[c, v] == 1:\n",
        "                    product = 1.0\n",
        "                    for vp in range(n):\n",
        "                        if vp != v and H[c, vp] == 1:\n",
        "                            product *= np.tanh(bit_to_check[vp, c] / 2)\n",
        "                    product = np.clip(product, -0.999999, 0.999999)  # Prevent NaNs\n",
        "                    check_to_bit[c, v] = 2 * np.arctanh(product)\n",
        "\n",
        "        # Variable node update: compute bit-to-check messages\n",
        "        for v in range(n):\n",
        "            for c in range(m):\n",
        "                if H[c, v] == 1:\n",
        "                    sum_msg = prior_LLRs[v]\n",
        "                    for cp in range(m):\n",
        "                        if cp != c and H[cp, v] == 1:\n",
        "                            sum_msg += check_to_bit[cp, v]\n",
        "                    bit_to_check[v, c] = sum_msg\n",
        "\n",
        "        # Compute beliefs for each variable node\n",
        "        beliefs = np.zeros(n)\n",
        "        for v in range(n):\n",
        "            total_msg = prior_LLRs[v]\n",
        "            for c in range(m):\n",
        "                if H[c, v] == 1:\n",
        "                    total_msg += check_to_bit[c, v]\n",
        "            beliefs[v] = total_msg\n",
        "\n",
        "        # Hard decision based on beliefs\n",
        "        estimated_error = (beliefs < 0).astype(int)\n",
        "\n",
        "        # Compute estimated syndrome\n",
        "        estimated_syndrome = H @ estimated_error % 2\n",
        "\n",
        "        # Output status\n",
        "        print(f\"\\nIteration {iteration + 1}:\")\n",
        "        print(\"Beliefs:\", beliefs)\n",
        "        print(\"Estimated Error Pattern:\", estimated_error)\n",
        "        print(\"Estimated Syndrome:\", estimated_syndrome)\n",
        "\n",
        "        # Check for successful decoding: syndrome must be all zeros\n",
        "        if np.all(estimated_syndrome == 0):\n",
        "            print(\"Decoding successful!\")\n",
        "            return estimated_error, True\n",
        "\n",
        "    print(\"Decoding failed after max iterations.\")\n",
        "    return estimated_error, False"
      ],
      "metadata": {
        "id": "q-iZboZwv7nY"
      },
      "execution_count": 11,
      "outputs": []
    },
    {
      "cell_type": "markdown",
      "source": [
        "#*Example for verification*"
      ],
      "metadata": {
        "id": "q_kBEp2Drq92"
      }
    },
    {
      "cell_type": "code",
      "source": [
        "#Example 1\n",
        "H = np.array([[1, 1, 0],[0, 1, 1]])\n",
        "received_error = np.array([1, 0, 0])\n",
        "est_error, success = bp_sum_product_decoder(H, received_error, max_iter= 20, p_error=0.1)\n",
        "print(\"\\nFinal Decoded Error:\", est_error)\n",
        "print(\"Decoding Success:\", success)"
      ],
      "metadata": {
        "id": "YCMrMThjv8JV",
        "colab": {
          "base_uri": "https://localhost:8080/"
        },
        "outputId": "d064f67c-8dae-46ac-b285-93d3e03b3ba8"
      },
      "execution_count": 12,
      "outputs": [
        {
          "output_type": "stream",
          "name": "stdout",
          "text": [
            "Initially observed Syndrome: [1 0]\n",
            "\n",
            "Iteration 1:\n",
            "Beliefs: [0.         2.19722458 4.39444915]\n",
            "Estimated Error Pattern: [0 0 0]\n",
            "Estimated Syndrome: [0 0]\n",
            "Decoding successful!\n",
            "\n",
            "Final Decoded Error: [0 0 0]\n",
            "Decoding Success: True\n"
          ]
        }
      ]
    },
    {
      "cell_type": "code",
      "source": [],
      "metadata": {
        "id": "zeOAFoFjrOYt"
      },
      "execution_count": null,
      "outputs": []
    }
  ]
}
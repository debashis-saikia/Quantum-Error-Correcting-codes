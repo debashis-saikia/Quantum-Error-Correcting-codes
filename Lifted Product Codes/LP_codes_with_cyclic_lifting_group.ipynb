{
  "nbformat": 4,
  "nbformat_minor": 0,
  "metadata": {
    "colab": {
      "provenance": []
    },
    "kernelspec": {
      "name": "python3",
      "display_name": "Python 3"
    },
    "language_info": {
      "name": "python"
    }
  },
  "cells": [
    {
      "cell_type": "code",
      "execution_count": 3,
      "metadata": {
        "id": "GPBSPJYP-KBd"
      },
      "outputs": [],
      "source": [
        "import numpy as np"
      ]
    },
    {
      "cell_type": "code",
      "source": [
        "class LiftedProductCode:\n",
        "\n",
        "    #Initialize with cyclic group order n (size of the lifting group G).\n",
        "    def __init__(self, group_order):\n",
        "        self.n = group_order\n",
        "        self.G = self._generate_group()\n",
        "\n",
        "    #Generate the cyclic group matrices G = [I, P, P^2, ..., P^(n-1)].\n",
        "    def _generate_group(self):\n",
        "        P = np.roll(np.eye(self.n), shift=1, axis=1)\n",
        "        return [np.linalg.matrix_power(P, i) for i in range(self.n)]\n",
        "\n",
        "    #Lift a base matrix by replacing entries with group matrices or zero blocks.\n",
        "    def lifted_matrix(self, base_matrix):\n",
        "        lifted_rows = []\n",
        "\n",
        "        for row in base_matrix:\n",
        "            block_row = []\n",
        "            for val in row:\n",
        "                if isinstance(val, int) and val != 0:\n",
        "                    block = self.G[val % self.n]\n",
        "                else:\n",
        "                    block = np.zeros((self.n, self.n))\n",
        "                block_row.append(block)\n",
        "            lifted_rows.append(np.hstack(block_row))\n",
        "\n",
        "        return np.vstack(lifted_rows)\n",
        "\n",
        "    #Compute the lifted product code for matrices A and B.\n",
        "    def compute_product_code(self, A, B):\n",
        "        A_lift = self.lifted_matrix(A)\n",
        "        B_lift = self.lifted_matrix(B)\n",
        "\n",
        "        mA, nA = A_lift.shape\n",
        "        mB, nB = B_lift.shape\n",
        "\n",
        "        # Construct H_X\n",
        "        HX_left = np.kron(A_lift, np.eye(mB))\n",
        "        HX_right = np.kron(np.eye(mA), B_lift)\n",
        "        HX = np.hstack((HX_left, HX_right))\n",
        "\n",
        "        # Construct H_Z\n",
        "        HZ_left = np.kron(np.eye(nA), B_lift.T)\n",
        "        HZ_right = np.kron(A_lift.T, np.eye(nB))\n",
        "        HZ = np.hstack((HZ_left, HZ_right))\n",
        "\n",
        "        # Check CSS condition\n",
        "        if np.all((HX @ HZ.T) % 2 == 0):\n",
        "            print(\"CSS condition satisfied.\")\n",
        "            return HX, HZ\n",
        "        else:\n",
        "            print(\"CSS condition NOT satisfied.\")\n",
        "            return None, None\n"
      ],
      "metadata": {
        "id": "4TesQ0Zltcmh"
      },
      "execution_count": 16,
      "outputs": []
    },
    {
      "cell_type": "code",
      "source": [
        "# Example: 1 (3-bit repetition code)\n",
        "A = [[0, 1, 0],\n",
        "    [0, 1, 1]]\n",
        "\n",
        "lpc = LiftedProductCode(group_order=3)\n",
        "\n",
        "HX, HZ = lpc.compute_product_code(A, A)\n",
        "\n",
        "if HX is not None:\n",
        "    print(\"H_X shape:\", HX.shape)\n",
        "    print(\"H_Z shape:\", HZ.shape)\n"
      ],
      "metadata": {
        "colab": {
          "base_uri": "https://localhost:8080/"
        },
        "id": "tnGL_KHJuHnr",
        "outputId": "7e47edb2-38a6-4b8b-8b73-5b346c4a547c"
      },
      "execution_count": 10,
      "outputs": [
        {
          "output_type": "stream",
          "name": "stdout",
          "text": [
            "CSS condition satisfied.\n",
            "H_X shape: (36, 108)\n",
            "H_Z shape: (81, 108)\n"
          ]
        }
      ]
    },
    {
      "cell_type": "code",
      "source": [
        "# Example: 2 (Hamming Code)\n",
        "B = np.matrix([[1, 0, 0, 1, 1, 0, 1], [0, 1, 0, 1, 0, 1, 1], [0, 0, 1, 0, 1, 1, 1]], dtype =int)\n",
        "lpc = LiftedProductCode(group_order=7)\n",
        "HX, HZ = lpc.compute_product_code(A, B)\n",
        "\n",
        "if HX is not None:\n",
        "    print(\"H_X shape:\", HX.shape)\n",
        "    print(\"H_Z shape:\", HZ.shape)"
      ],
      "metadata": {
        "colab": {
          "base_uri": "https://localhost:8080/"
        },
        "id": "7aL3-3owvvrJ",
        "outputId": "70c6d91f-7f77-402e-9b5d-0fb33311a3ef"
      },
      "execution_count": 15,
      "outputs": [
        {
          "output_type": "stream",
          "name": "stdout",
          "text": [
            "CSS condition satisfied.\n",
            "H_X shape: (294, 539)\n",
            "H_Z shape: (147, 539)\n"
          ]
        }
      ]
    },
    {
      "cell_type": "code",
      "source": [],
      "metadata": {
        "id": "9wQiV4CZySCb"
      },
      "execution_count": null,
      "outputs": []
    }
  ]
}

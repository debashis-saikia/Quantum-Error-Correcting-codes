{
  "nbformat": 4,
  "nbformat_minor": 0,
  "metadata": {
    "colab": {
      "provenance": [],
      "gpuType": "V28"
    },
    "kernelspec": {
      "name": "python3",
      "display_name": "Python 3"
    },
    "language_info": {
      "name": "python"
    },
    "accelerator": "TPU"
  },
  "cells": [
    {
      "cell_type": "markdown",
      "source": [
        "#*Importing libraries*"
      ],
      "metadata": {
        "id": "DUignxGrhSPZ"
      }
    },
    {
      "cell_type": "code",
      "execution_count": null,
      "metadata": {
        "id": "GPBSPJYP-KBd"
      },
      "outputs": [],
      "source": [
        "import numpy as np"
      ]
    },
    {
      "cell_type": "code",
      "source": [
        "from scipy.sparse import identity, csr_matrix, kron, hstack, vstack"
      ],
      "metadata": {
        "id": "3cpsTHK9Sfk6"
      },
      "execution_count": null,
      "outputs": []
    },
    {
      "cell_type": "markdown",
      "source": [
        "#*The main code of the Lifted Product code*"
      ],
      "metadata": {
        "id": "3b2htCvOhW4M"
      }
    },
    {
      "cell_type": "code",
      "source": [
        "class LiftedProductCode:\n",
        "\n",
        "    # Initialize with cyclic group order n (size of the lifting group G)\n",
        "    def __init__(self, group_order):\n",
        "        self.n = group_order\n",
        "        self.G = self._generate_group()\n",
        "\n",
        "    # Generate the cyclic group matrices G = [I, P, P^2, ..., P^(n-1)] in sparse form\n",
        "    def _generate_group(self):\n",
        "        P = csr_matrix(np.roll(np.eye(self.n), shift=1, axis=1))\n",
        "        return [P ** i for i in range(self.n)]\n",
        "\n",
        "    #Lifting the matrices with the group\n",
        "    def lifted_matrix(self, base_matrix):\n",
        "        lifted_rows = []\n",
        "\n",
        "        for row in base_matrix:\n",
        "            block_row = []\n",
        "            for val in row:\n",
        "                if isinstance(val, int) and val != 0:\n",
        "                    block = self.G[val % self.n]\n",
        "                else:\n",
        "                    block = csr_matrix((self.n, self.n))\n",
        "                block_row.append(block)\n",
        "            lifted_rows.append(hstack(block_row))\n",
        "\n",
        "        return vstack(lifted_rows)\n",
        "\n",
        "    # Compute the lifted product code for matrices A and B\n",
        "    def compute_product_code(self, A, B):\n",
        "        A_lift = self.lifted_matrix(A)\n",
        "        B_lift = self.lifted_matrix(B)\n",
        "\n",
        "        mA, nA = A_lift.shape\n",
        "        mB, nB = B_lift.shape\n",
        "\n",
        "        HX_left = kron(A_lift, identity(mB, format='csr'), format='csr')\n",
        "        HX_right = kron(identity(mA, format='csr'), B_lift, format='csr')\n",
        "        HX = hstack([HX_left, HX_right], format='csr')\n",
        "\n",
        "        HZ_left = kron(identity(nA, format='csr'), B_lift.T, format='csr')\n",
        "        HZ_right = kron(A_lift.T, identity(nB, format='csr'), format='csr')\n",
        "        HZ = hstack([HZ_left, HZ_right], format='csr')\n",
        "\n",
        "        return HX, HZ"
      ],
      "metadata": {
        "id": "MlHOLIVESa7U"
      },
      "execution_count": null,
      "outputs": []
    },
    {
      "cell_type": "markdown",
      "source": [
        "#*Accessing the .txt file for H1 matrix and getting the matrix*"
      ],
      "metadata": {
        "id": "P3ZUtmQQhIGY"
      }
    },
    {
      "cell_type": "code",
      "source": [
        "nums_list = []\n",
        "\n",
        "with open('/content/H1_Marix_100n_50k.txt', 'r') as file:\n",
        "    for line in file:\n",
        "        numbers = list(map(int, line.strip().split()))\n",
        "        nums_list.append(numbers)\n",
        "\n",
        "nums = np.array(nums_list, dtype=int)\n",
        "nums = np.matrix(nums)"
      ],
      "metadata": {
        "id": "20GqS_LShn09"
      },
      "execution_count": null,
      "outputs": []
    },
    {
      "cell_type": "code",
      "source": [
        "rows = 100\n",
        "cols = 50\n",
        "H1 = np.zeros((rows, cols))"
      ],
      "metadata": {
        "id": "olxY8GQ4h22n"
      },
      "execution_count": null,
      "outputs": []
    },
    {
      "cell_type": "code",
      "source": [
        "num_rows, num_cols = nums.shape\n",
        "for i in range(num_rows):\n",
        "  for j in range(num_cols):\n",
        "    if nums[i,j] != -1:\n",
        "      H1[i, nums[i,j]] = 1\n",
        "    else:\n",
        "      continue"
      ],
      "metadata": {
        "id": "1TPy3KZ3poHk"
      },
      "execution_count": null,
      "outputs": []
    },
    {
      "cell_type": "code",
      "source": [
        "np.shape(H1)"
      ],
      "metadata": {
        "colab": {
          "base_uri": "https://localhost:8080/"
        },
        "id": "4VNLzKfwl78K",
        "outputId": "9c4a880f-3c86-4911-e523-5ff0fdc72e7f"
      },
      "execution_count": null,
      "outputs": [
        {
          "output_type": "execute_result",
          "data": {
            "text/plain": [
              "(100, 50)"
            ]
          },
          "metadata": {},
          "execution_count": 14
        }
      ]
    },
    {
      "cell_type": "markdown",
      "source": [
        "#*Preparing the H2 matrix*"
      ],
      "metadata": {
        "id": "pDwI_bTsqyU6"
      }
    },
    {
      "cell_type": "markdown",
      "source": [
        "*H2 is the parity check matrix of the 3-bit repetition code*"
      ],
      "metadata": {
        "id": "Nep3jpCTq4tK"
      }
    },
    {
      "cell_type": "code",
      "source": [
        "H2 = np.array([[1, 1, 0], [0, 1, 1]])"
      ],
      "metadata": {
        "id": "xORLlFOhqKJE"
      },
      "execution_count": null,
      "outputs": []
    },
    {
      "cell_type": "markdown",
      "source": [
        "#*Getting the final parity check matrix of the Lifted Product code*"
      ],
      "metadata": {
        "id": "xf-DX8U4rIVy"
      }
    },
    {
      "cell_type": "code",
      "source": [
        "lpc = LiftedProductCode(group_order=50)\n",
        "\n",
        "HX, HZ = lpc.compute_product_code(H1, H2)\n",
        "\n",
        "if HX is not None:\n",
        "    print(\"H_X shape:\", HX.shape)\n",
        "    print(\"H_Z shape:\", HZ.shape)"
      ],
      "metadata": {
        "colab": {
          "base_uri": "https://localhost:8080/"
        },
        "id": "U99efvOIrGWK",
        "outputId": "adc08163-5490-410c-f61b-e007079904e4"
      },
      "execution_count": null,
      "outputs": [
        {
          "output_type": "stream",
          "name": "stdout",
          "text": [
            "H_X shape: (500000, 1000000)\n",
            "H_Z shape: (375000, 1000000)\n"
          ]
        }
      ]
    },
    {
      "cell_type": "code",
      "source": [],
      "metadata": {
        "id": "pVRAVkALrkMS"
      },
      "execution_count": null,
      "outputs": []
    }
  ]
}
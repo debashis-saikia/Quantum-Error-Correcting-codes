{
 "cells": [
  {
   "cell_type": "code",
   "execution_count": 3,
   "id": "434d8689",
   "metadata": {},
   "outputs": [],
   "source": [
    "import scipy\n",
    "import numpy as np"
   ]
  },
  {
   "cell_type": "code",
   "execution_count": 4,
   "id": "1f157854",
   "metadata": {},
   "outputs": [],
   "source": [
    "from scipy.sparse import lil_matrix"
   ]
  },
  {
   "cell_type": "code",
   "execution_count": 5,
   "id": "3fe837c0",
   "metadata": {},
   "outputs": [],
   "source": [
    "# Generating unrotated planar surface code of distance d\n",
    "def generate_unrotated_surface_code(d: int):\n",
    "    assert d > 2, \"Distance must be greater than 2\"\n",
    "    \n",
    "    # For unrotated surface code with distance 'd' the number of physical qubits is 2d(d- 1)\n",
    "    num_qubits = 2*d*(d-1)\n",
    "\n",
    "    # Horizontal edges: (row i in [0..d-1], col j in [0..d-2]) between (i,j) -- (i,j+1)\n",
    "    horiz_id = {}\n",
    "    vid = 0\n",
    "    for i in range(d):\n",
    "        for j in range(d-1):\n",
    "            horiz_id[(i, j)] = vid\n",
    "            vid += 1\n",
    "    # Vertical edges: (row i in [0..d-2], col j in [0..d-1]) between (i,j) -- (i+1,j)\n",
    "    vert_id = {}\n",
    "    for i in range(d-1):\n",
    "        for j in range(d):\n",
    "            vert_id[(i, j)] = vid\n",
    "            vid += 1\n",
    "    if num_qubits !=vid:\n",
    "        raise ValueError('Something is wrong')\n",
    "        \n",
    "\n",
    "    # HZ matrix\n",
    "    # For HZ matrix the number of rows is equal to the number of faces\n",
    "    num_faces = (d - 1)*(d - 1)\n",
    "    HZ = lil_matrix((num_faces, num_qubits), dtype=int)\n",
    "\n",
    "    row = 0 \n",
    "\n",
    "\n",
    "    for i in range(d - 1):\n",
    "        for j in range(d - 1):\n",
    "            HZ[row, horiz_id[(i, j)]] = 1 #top\n",
    "            HZ[row, vert_id[(i, j+1)]] = 1 #right\n",
    "            HZ[row, horiz_id[(i+1, j)]] = 1 #bottom\n",
    "            HZ[row, vert_id[(i, j)]] = 1 #left\n",
    "\n",
    "            row += 1\n",
    "\n",
    "        HZ = HZ.tocsr()\n",
    "\n",
    "    # For HX matrix the number of rows is equal to the number of vertices\n",
    "    num_vertices = d*d\n",
    "    HX = lil_matrix((num_vertices, num_qubits), dtype=int)\n",
    "\n",
    "    row = 0\n",
    "    for i in range(d):\n",
    "        for j in range(d):\n",
    "            # incident horizontal edges\n",
    "            if j > 0:\n",
    "                HX[row, horiz_id[(i, j-1)]] = 1   # left\n",
    "            if j < d-1:\n",
    "                HX[row, horiz_id[(i, j)]] = 1     # right\n",
    "            # incident vertical edges\n",
    "            if i > 0:\n",
    "                HX[row, vert_id[(i-1, j)]] = 1    # up\n",
    "            if i < d-1:\n",
    "                HX[row, vert_id[(i, j)]] = 1      # down\n",
    "            row += 1\n",
    "\n",
    "    HX = HX.tocsr()\n",
    "\n",
    "    # Checking CSS condition\n",
    "    if np.any((HX @ HZ.T).toarray() % 2 != 0):\n",
    "        raise ValueError(\"CSS condition violated\")\n",
    "\n",
    "    return HZ, HX, num_faces, num_qubits, num_vertices"
   ]
  },
  {
   "cell_type": "code",
   "execution_count": 6,
   "id": "f14021ea",
   "metadata": {},
   "outputs": [
    {
     "name": "stderr",
     "output_type": "stream",
     "text": [
      "C:\\Users\\IISER13\\AppData\\Roaming\\Python\\Python313\\site-packages\\scipy\\sparse\\_index.py:168: SparseEfficiencyWarning: Changing the sparsity structure of a csr_matrix is expensive. lil and dok are more efficient.\n",
      "  self._set_intXint(row, col, x.flat[0])\n"
     ]
    }
   ],
   "source": [
    "HZ, HX, num_faces, num_qubits, num_vertices = generate_unrotated_surface_code(10)"
   ]
  },
  {
   "cell_type": "code",
   "execution_count": 7,
   "id": "3ca136a9",
   "metadata": {},
   "outputs": [
    {
     "name": "stdout",
     "output_type": "stream",
     "text": [
      "HZ matrix:\n",
      "[[1 0 0 ... 0 0 0]\n",
      " [0 1 0 ... 0 0 0]\n",
      " [0 0 1 ... 0 0 0]\n",
      " ...\n",
      " [0 0 0 ... 1 0 0]\n",
      " [0 0 0 ... 1 1 0]\n",
      " [0 0 0 ... 0 1 1]]\n",
      "HX matrix:\n",
      "[[1 0 0 ... 0 0 0]\n",
      " [1 1 0 ... 0 0 0]\n",
      " [0 1 1 ... 0 0 0]\n",
      " ...\n",
      " [0 0 0 ... 1 0 0]\n",
      " [0 0 0 ... 0 1 0]\n",
      " [0 0 0 ... 0 0 1]]\n",
      "Number of faces: 81\n",
      "Number of qubits: 180\n",
      "Number of vertices: 100\n"
     ]
    }
   ],
   "source": [
    "print(\"HZ matrix:\")\n",
    "print(HZ.toarray())\n",
    "print(\"HX matrix:\")\n",
    "print(HX.toarray())\n",
    "print(\"Number of faces:\", num_faces)\n",
    "print(\"Number of qubits:\", num_qubits)\n",
    "print(\"Number of vertices:\", num_vertices)"
   ]
  },
  {
   "cell_type": "code",
   "execution_count": null,
   "id": "4b646bf1",
   "metadata": {},
   "outputs": [],
   "source": []
  }
 ],
 "metadata": {
  "kernelspec": {
   "display_name": "Python 3",
   "language": "python",
   "name": "python3"
  },
  "language_info": {
   "codemirror_mode": {
    "name": "ipython",
    "version": 3
   },
   "file_extension": ".py",
   "mimetype": "text/x-python",
   "name": "python",
   "nbconvert_exporter": "python",
   "pygments_lexer": "ipython3",
   "version": "3.13.5"
  }
 },
 "nbformat": 4,
 "nbformat_minor": 5
}

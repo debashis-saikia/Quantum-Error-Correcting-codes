{
  "cells": [
    {
      "cell_type": "markdown",
      "metadata": {
        "id": "WLFFS2QZEopv"
      },
      "source": [
        "#*Importing Libraries*"
      ]
    },
    {
      "cell_type": "code",
      "execution_count": null,
      "metadata": {
        "id": "57XZBW6GjiXi"
      },
      "outputs": [],
      "source": [
        "!pip install qiskit\n",
        "!pip install qiskit-aer"
      ]
    },
    {
      "cell_type": "code",
      "execution_count": null,
      "metadata": {
        "id": "xZa8ffwjj23q"
      },
      "outputs": [],
      "source": [
        "from qiskit.result.distributions import probability\n",
        "import numpy as np\n",
        "from qiskit_aer.noise import (NoiseModel, QuantumError, ReadoutError,\n",
        "    pauli_error, depolarizing_error, thermal_relaxation_error,amplitude_damping_error)\n",
        "from qiskit_aer import AerSimulator\n",
        "from qiskit import QuantumRegister, ClassicalRegister, QuantumCircuit"
      ]
    },
    {
      "cell_type": "markdown",
      "metadata": {
        "id": "jRjDkiK7Esao"
      },
      "source": [
        "#*Defining the Pauli matrices*\n"
      ]
    },
    {
      "cell_type": "code",
      "execution_count": 3,
      "metadata": {
        "id": "cwgEnd5GEWmu"
      },
      "outputs": [],
      "source": [
        "X = np.array([[0, 1], [1, 0]])\n",
        "Y = np.array([[0, -1j], [1j, 0]])\n",
        "Z = np.array([[1, 0], [0, -1]])"
      ]
    },
    {
      "cell_type": "markdown",
      "metadata": {
        "id": "GwCjI33UE1nz"
      },
      "source": [
        "#*Depolarizing Noise*"
      ]
    },
    {
      "cell_type": "markdown",
      "metadata": {
        "id": "FnmwUKqcVV-c"
      },
      "source": [
        "*Here in inputs, the input bit string represents the qubit that we want to pass through the noise channel and p_error represents the probability of occurence of that particular error*"
      ]
    },
    {
      "cell_type": "code",
      "execution_count": 6,
      "metadata": {
        "id": "lLPBD8XzM44X"
      },
      "outputs": [],
      "source": [
        "def depolarizing_noise_simulation(initial_bitstring, p_error):\n",
        "\n",
        "  n_qubits = len(initial_bitstring)\n",
        "  qc = QuantumCircuit(n_qubits, n_qubits) #Here, n- quantum bits in the circuit and and n classical bits to store after measurement\n",
        "\n",
        "  #First of all, we shall prepare the initial quantum state from the initial bit string.\n",
        "  for i, bit in enumerate(initial_bitstring):\n",
        "    if bit == '1':\n",
        "      qc.x(i)   #It will make all string value to |1⟩, by flipping the initial |0⟩.\n",
        "\n",
        "  #Here we shall define the noise model with the deoplarizing model.\n",
        "  noise_model = NoiseModel()\n",
        "  depol_error = depolarizing_error(p_error, 1)\n",
        "\n",
        "  for qubit in range(n_qubits):\n",
        "    noise_model.add_quantum_error(depol_error, ['id'], [qubit])\n",
        "    qc.id(qubit)  # Identity gates to trigger noise.\n",
        "\n",
        "  #Now we shall measure and get the final noisy bitstring.\n",
        "  qc.measure(range(n_qubits), range(n_qubits))\n",
        "\n",
        "  simulator = AerSimulator(noise_model=noise_model)\n",
        "  result = simulator.run(qc, shots=1).result()\n",
        "\n",
        "  counts = result.get_counts()\n",
        "  noisy_bitstring = list(counts.keys())[0]\n",
        "\n",
        "  return noisy_bitstring"
      ]
    },
    {
      "cell_type": "code",
      "execution_count": 13,
      "metadata": {
        "colab": {
          "base_uri": "https://localhost:8080/",
          "height": 36
        },
        "id": "YjKo6FJuNdzf",
        "outputId": "3a4c6992-ca42-49fe-8ea8-b7cc5adba4a4"
      },
      "outputs": [
        {
          "data": {
            "application/vnd.google.colaboratory.intrinsic+json": {
              "type": "string"
            },
            "text/plain": [
              "'0001'"
            ]
          },
          "execution_count": 13,
          "metadata": {},
          "output_type": "execute_result"
        }
      ],
      "source": [
        "depolarizing_noise_simulation('1000', 0.1)"
      ]
    },
    {
      "cell_type": "markdown",
      "metadata": {
        "id": "QNg6YFy4RnGW"
      },
      "source": [
        "#*Bit flip noise*"
      ]
    },
    {
      "cell_type": "code",
      "execution_count": 16,
      "metadata": {
        "id": "gU1-O0p9RbCy"
      },
      "outputs": [],
      "source": [
        "def bit_flip_noise_simulation(initial_bitstring, p_error):\n",
        "\n",
        "  n_qubits = len(initial_bitstring)\n",
        "  qc = QuantumCircuit(n_qubits, n_qubits)\n",
        "\n",
        "  for i, bit in enumerate(initial_bitstring):\n",
        "    if bit == '1':\n",
        "      qc.x(i)\n",
        "\n",
        "  bit_flip = pauli_error([('X', p_error), ('I', 1 - p_error)])\n",
        "  noise_model = NoiseModel()\n",
        "\n",
        "  for qubit in range(n_qubits):\n",
        "    noise_model.add_quantum_error(bit_flip, ['id'], [qubit])\n",
        "    qc.id(qubit)\n",
        "\n",
        "  qc.measure(range(n_qubits), range(n_qubits))\n",
        "\n",
        "  simulator = AerSimulator(noise_model=noise_model)\n",
        "  result = simulator.run(qc, shots=1).result()\n",
        "\n",
        "  counts = result.get_counts()\n",
        "  noisy_bitstring = list(counts.keys())[0]\n",
        "\n",
        "  return noisy_bitstring\n"
      ]
    },
    {
      "cell_type": "code",
      "execution_count": 17,
      "metadata": {
        "colab": {
          "base_uri": "https://localhost:8080/",
          "height": 36
        },
        "id": "hjwxAT8kT3yV",
        "outputId": "dac30ab8-e56c-40ab-ee8e-5f6b32523caa"
      },
      "outputs": [
        {
          "data": {
            "application/vnd.google.colaboratory.intrinsic+json": {
              "type": "string"
            },
            "text/plain": [
              "'0001'"
            ]
          },
          "execution_count": 17,
          "metadata": {},
          "output_type": "execute_result"
        }
      ],
      "source": [
        "bit_flip_noise_simulation('1000', 0.1)"
      ]
    },
    {
      "cell_type": "markdown",
      "metadata": {
        "id": "pkOUe088UVle"
      },
      "source": [
        "#*Phase Flip noise*"
      ]
    },
    {
      "cell_type": "code",
      "execution_count": 18,
      "metadata": {
        "id": "iGwIawQvT6Xs"
      },
      "outputs": [],
      "source": [
        "def phase_flip_noise_simulation(initial_bitstring, p_error):\n",
        "\n",
        "  n_qubits = len(initial_bitstring)\n",
        "  qc = QuantumCircuit(n_qubits, n_qubits)\n",
        "\n",
        "  for i, bit in enumerate(initial_bitstring):\n",
        "    if bit == '1':\n",
        "      qc.x(i)\n",
        "\n",
        "  phase_flip = pauli_error([('Z', p_error), ('I', 1 - p_error)])\n",
        "  noise_model = NoiseModel()\n",
        "\n",
        "  for qubit in range(n_qubits):\n",
        "    noise_model.add_quantum_error(phase_flip, ['id'], [qubit])\n",
        "    qc.id(qubit)\n",
        "\n",
        "  qc.measure(range(n_qubits), range(n_qubits))\n",
        "\n",
        "  simulator = AerSimulator(noise_model=noise_model)\n",
        "  result = simulator.run(qc, shots=1).result()\n",
        "\n",
        "  counts = result.get_counts()\n",
        "  noisy_bitstring = list(counts.keys())[0]\n",
        "\n",
        "  return noisy_bitstring"
      ]
    },
    {
      "cell_type": "code",
      "execution_count": 19,
      "metadata": {
        "colab": {
          "base_uri": "https://localhost:8080/",
          "height": 36
        },
        "id": "pXyYcolrU3Bk",
        "outputId": "c873ae49-0299-442f-cfa7-ffaf730f1114"
      },
      "outputs": [
        {
          "data": {
            "application/vnd.google.colaboratory.intrinsic+json": {
              "type": "string"
            },
            "text/plain": [
              "'0001'"
            ]
          },
          "execution_count": 19,
          "metadata": {},
          "output_type": "execute_result"
        }
      ],
      "source": [
        "phase_flip_noise_simulation('1000', 0.1)"
      ]
    },
    {
      "cell_type": "markdown",
      "metadata": {
        "id": "faZ_D293V3Rq"
      },
      "source": [
        "#*Bit-phase flip Noise*"
      ]
    },
    {
      "cell_type": "code",
      "execution_count": 20,
      "metadata": {
        "id": "J-n9-6wnVuPg"
      },
      "outputs": [],
      "source": [
        "def bitphase_flip_noise_simulation(initial_bitstring, p_error):\n",
        "\n",
        "  n_qubits = len(initial_bitstring)\n",
        "  qc = QuantumCircuit(n_qubits, n_qubits)\n",
        "\n",
        "  for i, bit in enumerate(initial_bitstring):\n",
        "    if bit == '1':\n",
        "      qc.x(i)\n",
        "\n",
        "  bitphase_flip = pauli_error([('Y', p_error), ('I', 1 - p_error)])\n",
        "  noise_model = NoiseModel()\n",
        "\n",
        "  for qubit in range(n_qubits):\n",
        "    noise_model.add_quantum_error(bitphase_flip, ['id'], [qubit])\n",
        "    qc.id(qubit)\n",
        "\n",
        "  qc.measure(range(n_qubits), range(n_qubits))\n",
        "\n",
        "  simulator = AerSimulator(noise_model=noise_model)\n",
        "  result = simulator.run(qc, shots=1).result()\n",
        "\n",
        "  counts = result.get_counts()\n",
        "  noisy_bitstring = list(counts.keys())[0]\n",
        "\n",
        "  return noisy_bitstring"
      ]
    },
    {
      "cell_type": "code",
      "execution_count": 21,
      "metadata": {
        "colab": {
          "base_uri": "https://localhost:8080/",
          "height": 36
        },
        "id": "PnErnGe-U6CO",
        "outputId": "c1da5b15-48e4-40c0-e9e7-62b22fd9697f"
      },
      "outputs": [
        {
          "data": {
            "application/vnd.google.colaboratory.intrinsic+json": {
              "type": "string"
            },
            "text/plain": [
              "'0001'"
            ]
          },
          "execution_count": 21,
          "metadata": {},
          "output_type": "execute_result"
        }
      ],
      "source": [
        "bitphase_flip_noise_simulation('1000', 0.1)"
      ]
    }
  ],
  "metadata": {
    "colab": {
      "provenance": []
    },
    "kernelspec": {
      "display_name": "Python 3",
      "name": "python3"
    },
    "language_info": {
      "name": "python"
    }
  },
  "nbformat": 4,
  "nbformat_minor": 0
}

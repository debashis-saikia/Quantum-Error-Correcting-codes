{
  "nbformat": 4,
  "nbformat_minor": 0,
  "metadata": {
    "colab": {
      "provenance": []
    },
    "kernelspec": {
      "name": "python3",
      "display_name": "Python 3"
    },
    "language_info": {
      "name": "python"
    }
  },
  "cells": [
    {
      "cell_type": "markdown",
      "source": [
        "#*Importing Libraries*"
      ],
      "metadata": {
        "id": "WLFFS2QZEopv"
      }
    },
    {
      "cell_type": "code",
      "source": [
        "!pip install qiskit\n",
        "!pip install qiskit-aer"
      ],
      "metadata": {
        "id": "57XZBW6GjiXi"
      },
      "execution_count": null,
      "outputs": []
    },
    {
      "cell_type": "code",
      "source": [
        "from qiskit.result.distributions import probability\n",
        "import numpy as np\n",
        "from qiskit_aer.noise import (NoiseModel, QuantumError, ReadoutError,\n",
        "    pauli_error, depolarizing_error, thermal_relaxation_error,amplitude_damping_error)\n",
        "from qiskit_aer import AerSimulator\n",
        "from qiskit import QuantumRegister, ClassicalRegister, QuantumCircuit\n",
      ],
      "metadata": {
        "id": "xZa8ffwjj23q"
      },
      "execution_count": 2,
      "outputs": []
    },
    {
      "cell_type": "markdown",
      "source": [
        "#*Defining the Pauli matrices*\n"
      ],
      "metadata": {
        "id": "jRjDkiK7Esao"
      }
    },
    {
      "cell_type": "code",
      "source": [
        "X = np.array([[0, 1], [1, 0]])\n",
        "Y = np.array([[0, -1j], [1j, 0]])\n",
        "Z = np.array([[1, 0], [0, -1]])"
      ],
      "metadata": {
        "id": "cwgEnd5GEWmu"
      },
      "execution_count": 3,
      "outputs": []
    },
    {
      "cell_type": "markdown",
      "source": [
        "#*Depolarizing Noise*"
      ],
      "metadata": {
        "id": "GwCjI33UE1nz"
      }
    },
    {
      "cell_type": "markdown",
      "source": [
        "*Here in inputs, the input bit string represents the qubit that we want to pass through the noise channel and p_error represents the probability of occurence of that particular error*"
      ],
      "metadata": {
        "id": "FnmwUKqcVV-c"
      }
    },
    {
      "cell_type": "code",
      "source": [
        "def depolarizing_noise_simulation(initial_bitstring, p_error):\n",
        "\n",
        "  n_qubits = len(initial_bitstring)\n",
        "  qc = QuantumCircuit(n_qubits, n_qubits) #Here, n- quantum bits in the circuit and and n classical bits to store after measurement\n",
        "\n",
        "  #First of all, we shall prepare the initial quantum state from the initial bit string.\n",
        "  for i, bit in enumerate(initial_bitstring):\n",
        "    if bit == '1':\n",
        "      qc.x(i)   #It will make all string value to |1⟩, by flipping the initial |0⟩.\n",
        "\n",
        "  #Here we shall define the noise model with the deoplarizing model.\n",
        "  noise_model = NoiseModel()\n",
        "  depol_error = depolarizing_error(p_error, 1)\n",
        "\n",
        "  for qubit in range(n_qubits):\n",
        "    noise_model.add_quantum_error(depol_error, ['id'], [qubit])\n",
        "    qc.id(qubit)  # Identity gates to trigger noise.\n",
        "\n",
        "  #Now we shall measure and get the final noisy bitstring.\n",
        "  qc.measure(range(n_qubits), range(n_qubits))\n",
        "\n",
        "  simulator = AerSimulator(noise_model=noise_model)\n",
        "  result = simulator.run(qc, shots=1).result()\n",
        "\n",
        "  counts = result.get_counts()\n",
        "  noisy_bitstring = list(counts.keys())[0]\n",
        "\n",
        "  return noisy_bitstring"
      ],
      "metadata": {
        "id": "lLPBD8XzM44X"
      },
      "execution_count": 6,
      "outputs": []
    },
    {
      "cell_type": "code",
      "source": [
        "depolarizing_noise_simulation('1000', 0.1)"
      ],
      "metadata": {
        "colab": {
          "base_uri": "https://localhost:8080/",
          "height": 36
        },
        "id": "YjKo6FJuNdzf",
        "outputId": "3a4c6992-ca42-49fe-8ea8-b7cc5adba4a4"
      },
      "execution_count": 13,
      "outputs": [
        {
          "output_type": "execute_result",
          "data": {
            "text/plain": [
              "'0001'"
            ],
            "application/vnd.google.colaboratory.intrinsic+json": {
              "type": "string"
            }
          },
          "metadata": {},
          "execution_count": 13
        }
      ]
    },
    {
      "cell_type": "markdown",
      "source": [
        "#*Bit flip noise*"
      ],
      "metadata": {
        "id": "QNg6YFy4RnGW"
      }
    },
    {
      "cell_type": "code",
      "source": [
        "def bit_flip_noise_simulation(initial_bitstring, p_error):\n",
        "\n",
        "  n_qubits = len(initial_bitstring)\n",
        "  qc = QuantumCircuit(n_qubits, n_qubits)\n",
        "\n",
        "  for i, bit in enumerate(initial_bitstring):\n",
        "    if bit == '1':\n",
        "      qc.x(i)\n",
        "\n",
        "  bit_flip = pauli_error([('X', p_error), ('I', 1 - p_error)])\n",
        "  noise_model = NoiseModel()\n",
        "\n",
        "  for qubit in range(n_qubits):\n",
        "    noise_model.add_quantum_error(bit_flip, ['id'], [qubit])\n",
        "    qc.id(qubit)\n",
        "\n",
        "  qc.measure(range(n_qubits), range(n_qubits))\n",
        "\n",
        "  simulator = AerSimulator(noise_model=noise_model)\n",
        "  result = simulator.run(qc, shots=1).result()\n",
        "\n",
        "  counts = result.get_counts()\n",
        "  noisy_bitstring = list(counts.keys())[0]\n",
        "\n",
        "  return noisy_bitstring\n",
        ""
      ],
      "metadata": {
        "id": "gU1-O0p9RbCy"
      },
      "execution_count": 16,
      "outputs": []
    },
    {
      "cell_type": "code",
      "source": [
        "bit_flip_noise_simulation('1000', 0.1)"
      ],
      "metadata": {
        "colab": {
          "base_uri": "https://localhost:8080/",
          "height": 36
        },
        "id": "hjwxAT8kT3yV",
        "outputId": "dac30ab8-e56c-40ab-ee8e-5f6b32523caa"
      },
      "execution_count": 17,
      "outputs": [
        {
          "output_type": "execute_result",
          "data": {
            "text/plain": [
              "'0001'"
            ],
            "application/vnd.google.colaboratory.intrinsic+json": {
              "type": "string"
            }
          },
          "metadata": {},
          "execution_count": 17
        }
      ]
    },
    {
      "cell_type": "markdown",
      "source": [
        "#*Phase Flip noise*"
      ],
      "metadata": {
        "id": "pkOUe088UVle"
      }
    },
    {
      "cell_type": "code",
      "source": [
        "def phase_flip_noise_simulation(initial_bitstring, p_error):\n",
        "\n",
        "  n_qubits = len(initial_bitstring)\n",
        "  qc = QuantumCircuit(n_qubits, n_qubits)\n",
        "\n",
        "  for i, bit in enumerate(initial_bitstring):\n",
        "    if bit == '1':\n",
        "      qc.x(i)\n",
        "\n",
        "  phase_flip = pauli_error([('Z', p_error), ('I', 1 - p_error)])\n",
        "  noise_model = NoiseModel()\n",
        "\n",
        "  for qubit in range(n_qubits):\n",
        "    noise_model.add_quantum_error(phase_flip, ['id'], [qubit])\n",
        "    qc.id(qubit)\n",
        "\n",
        "  qc.measure(range(n_qubits), range(n_qubits))\n",
        "\n",
        "  simulator = AerSimulator(noise_model=noise_model)\n",
        "  result = simulator.run(qc, shots=1).result()\n",
        "\n",
        "  counts = result.get_counts()\n",
        "  noisy_bitstring = list(counts.keys())[0]\n",
        "\n",
        "  return noisy_bitstring"
      ],
      "metadata": {
        "id": "iGwIawQvT6Xs"
      },
      "execution_count": 18,
      "outputs": []
    },
    {
      "cell_type": "code",
      "source": [
        "phase_flip_noise_simulation('1000', 0.1)"
      ],
      "metadata": {
        "colab": {
          "base_uri": "https://localhost:8080/",
          "height": 36
        },
        "id": "pXyYcolrU3Bk",
        "outputId": "c873ae49-0299-442f-cfa7-ffaf730f1114"
      },
      "execution_count": 19,
      "outputs": [
        {
          "output_type": "execute_result",
          "data": {
            "text/plain": [
              "'0001'"
            ],
            "application/vnd.google.colaboratory.intrinsic+json": {
              "type": "string"
            }
          },
          "metadata": {},
          "execution_count": 19
        }
      ]
    },
    {
      "cell_type": "markdown",
      "source": [
        "#*Bit-phase flip Noise*"
      ],
      "metadata": {
        "id": "faZ_D293V3Rq"
      }
    },
    {
      "cell_type": "code",
      "source": [
        "def bitphase_flip_noise_simulation(initial_bitstring, p_error):\n",
        "\n",
        "  n_qubits = len(initial_bitstring)\n",
        "  qc = QuantumCircuit(n_qubits, n_qubits)\n",
        "\n",
        "  for i, bit in enumerate(initial_bitstring):\n",
        "    if bit == '1':\n",
        "      qc.x(i)\n",
        "\n",
        "  bitphase_flip = pauli_error([('Y', p_error), ('I', 1 - p_error)])\n",
        "  noise_model = NoiseModel()\n",
        "\n",
        "  for qubit in range(n_qubits):\n",
        "    noise_model.add_quantum_error(bitphase_flip, ['id'], [qubit])\n",
        "    qc.id(qubit)\n",
        "\n",
        "  qc.measure(range(n_qubits), range(n_qubits))\n",
        "\n",
        "  simulator = AerSimulator(noise_model=noise_model)\n",
        "  result = simulator.run(qc, shots=1).result()\n",
        "\n",
        "  counts = result.get_counts()\n",
        "  noisy_bitstring = list(counts.keys())[0]\n",
        "\n",
        "  return noisy_bitstring"
      ],
      "metadata": {
        "id": "J-n9-6wnVuPg"
      },
      "execution_count": 20,
      "outputs": []
    },
    {
      "cell_type": "code",
      "source": [
        "bitphase_flip_noise_simulation('1000', 0.1)"
      ],
      "metadata": {
        "colab": {
          "base_uri": "https://localhost:8080/",
          "height": 36
        },
        "id": "PnErnGe-U6CO",
        "outputId": "c1da5b15-48e4-40c0-e9e7-62b22fd9697f"
      },
      "execution_count": 21,
      "outputs": [
        {
          "output_type": "execute_result",
          "data": {
            "text/plain": [
              "'0001'"
            ],
            "application/vnd.google.colaboratory.intrinsic+json": {
              "type": "string"
            }
          },
          "metadata": {},
          "execution_count": 21
        }
      ]
    }
  ]
}
